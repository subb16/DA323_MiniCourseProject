{
 "cells": [
  {
   "cell_type": "code",
   "execution_count": null,
   "metadata": {},
   "outputs": [],
   "source": [
    "import requests\n",
    "from bs4 import BeautifulSoup\n",
    "import os\n",
    "import urllib\n",
    "\n",
    "def scrape_gym_equipment_photos(url, save_dir, num_images=50):\n",
    "    if not os.path.exists(save_dir):\n",
    "        os.makedirs(save_dir)\n",
    "\n",
    "    headers = {'User-Agent': 'Mozilla/5.0 (Windows NT 10.0; Win64; x64) AppleWebKit/537.36 (KHTML, like Gecko) Chrome/58.0.3029.110 Safari/537.3'}\n",
    "\n",
    "    response = requests.get(url, headers=headers)\n",
    "    if response.status_code == 200:\n",
    "        soup = BeautifulSoup(response.content, 'html.parser')\n",
    "        image_elements = soup.find_all('img')\n",
    "        img_count = 1\n",
    "        for img in image_elements:\n",
    "            if img_count > num_images:\n",
    "                break\n",
    "            img_url = img.get('src')\n",
    "            if img_url:\n",
    "                try:\n",
    "                    img_name = f\"image_{img_count}.jpg\"\n",
    "                    img_path = os.path.join(save_dir, img_name)\n",
    "                    urllib.request.urlretrieve(img_url, img_path)\n",
    "                    print(f\"Downloaded: {img_name}\")\n",
    "                    img_count += 1\n",
    "                except Exception as e:\n",
    "                    print(f\"Error downloading image: {e}\")\n",
    "    else:\n",
    "        print(\"Failed to fetch URL\")\n",
    "\n",
    "# Example usage\n",
    "url = \"https://www.google.com/search?q=bench+press&sca_esv=ded0b5ad8858a9a4&sca_upv=1&sxsrf=ACQVn09Ukanphwnjvn1I7W1wp0MWCeNOtg%3A1714239099356&ei=ezYtZqy3Fd3eseMPmKWQqAE&ved=0ahUKEwjs4M6k9uKFAxVdb2wGHZgSBBUQ4dUDCBA&uact=5&oq=bench+press&gs_lp=Egxnd3Mtd2l6LXNlcnAiC2JlbmNoIHByZXNzMg0QABiABBixAxhDGIoFMgoQABiABBhDGIoFMgoQABiABBhDGIoFMgoQABiABBhDGIoFMgoQABiABBhDGIoFMgoQABiABBhDGIoFMgoQABiABBhDGIoFMgoQABiABBhDGIoFMgUQABiABEjPFFAAWLIScAF4AZABAJgB9gKgAdAZqgEGMi0xMS4xuAEDyAEA-AEBmAINoAKIGsICChAjGIAEGCcYigXCAgQQIxgnwgIQEC4YgAQY0QMYQxjHARiKBcICDhAuGIAEGLEDGIMBGIoFwgIUEC4YgAQYsQMY0QMYgwEYxwEYigXCAhQQLhiABBixAxiDARjHARiKBRivAcICDRAAGIAEGEMYyQMYigXCAgsQABiABBiSAxiKBcICEBAAGIAEGLEDGEMYyQMYigXCAggQABiABBiSA8ICBxAAGIAEGAqYAwCSBwgxLjAuMTEuMaAHuFA&sclient=gws-wiz-serp#ip=1\"\n",
    "save_dir = \"gym_equipment_photos\"\n",
    "scrape_gym_equipment_photos(url, save_dir, num_images=50)\n"
   ]
  }
 ],
 "metadata": {
  "kernelspec": {
   "display_name": "Python 3.10.1 64-bit",
   "language": "python",
   "name": "python3"
  },
  "language_info": {
   "codemirror_mode": {
    "name": "ipython",
    "version": 3
   },
   "file_extension": ".py",
   "mimetype": "text/x-python",
   "name": "python",
   "nbconvert_exporter": "python",
   "pygments_lexer": "ipython3",
   "version": "3.10.1"
  },
  "orig_nbformat": 4,
  "vscode": {
   "interpreter": {
    "hash": "d95760da3830177e0ee3e0b179ce27239bf6f2511c74f33a77d4d7ee195a966d"
   }
  }
 },
 "nbformat": 4,
 "nbformat_minor": 2
}
